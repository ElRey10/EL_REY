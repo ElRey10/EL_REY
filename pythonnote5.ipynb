{
  "nbformat": 4,
  "nbformat_minor": 0,
  "metadata": {
    "colab": {
      "name": "day5assingn.ipynb",
      "provenance": [],
      "collapsed_sections": [],
      "authorship_tag": "ABX9TyNOKjY7rbdj87mUoHvPZkL2",
      "include_colab_link": true
    },
    "kernelspec": {
      "name": "python3",
      "display_name": "Python 3"
    }
  },
  "cells": [
    {
      "cell_type": "markdown",
      "metadata": {
        "id": "view-in-github",
        "colab_type": "text"
      },
      "source": [
        "<a href=\"https://colab.research.google.com/github/ElRey10/EL_REY/blob/master/pythonnote5.ipynb\" target=\"_parent\"><img src=\"https://colab.research.google.com/assets/colab-badge.svg\" alt=\"Open In Colab\"/></a>"
      ]
    },
    {
      "cell_type": "code",
      "metadata": {
        "id": "-bvqT5RSv6dq",
        "colab_type": "code",
        "outputId": "1166455d-7d2f-4319-f48c-0dc36c829e2c",
        "colab": {
          "base_uri": "https://localhost:8080/",
          "height": 252
        }
      },
      "source": [
        "import math as m\n",
        "#oops_p1\n",
        "print(\"OOPS P1\")\n",
        "print(\"\\n\")\n",
        "class bnk_acc:\n",
        "        def __init__(self,owner,balance):\n",
        "            self.owner=owner\n",
        "            self.balance=balance\n",
        "        \n",
        "        def deposit(self):\n",
        "            \n",
        "            print(\"Balance:\",self.balance)\n",
        "            print(\"Owner:\",self.owner)\n",
        "            print(\"DEPOSIT\")\n",
        "            de=input(\"Enter amount to deposit:\")\n",
        "            de=int(de)\n",
        "            self.balance=self.balance+de\n",
        "            print(\"Balance:\",self.balance)\n",
        "            \n",
        "\n",
        "        def withdraw(self):\n",
        "            print(\"WITHDRAW\")\n",
        "            print(\"Balance:\",self.balance)\n",
        "            wi=input(\"Amount to withdraw:\")\n",
        "            wi=int(wi)\n",
        "            if(wi<self.balance):\n",
        "                self.balance=self.balance-wi\n",
        "                print(\"Balance:\",self.balance)\n",
        "            else:\n",
        "                print(\"Withdraw exceeds balance\")\n",
        "\n",
        "b=bnk_acc(\"A\",100)\n",
        "b.deposit()\n",
        "b.withdraw()\n",
        "print(\"\\n\")\n"
      ],
      "execution_count": 0,
      "outputs": [
        {
          "output_type": "stream",
          "text": [
            "OOPS P1\n",
            "\n",
            "\n",
            "Balance: 100\n",
            "Owner: A\n",
            "DEPOSIT\n",
            "Enter amount to deposit:23\n",
            "Balance: 123\n",
            "WITHDRAW\n",
            "Balance: 123\n",
            "Amount to withdraw:43\n",
            "Balance: 80\n",
            "\n",
            "\n"
          ],
          "name": "stdout"
        }
      ]
    },
    {
      "cell_type": "code",
      "metadata": {
        "id": "L5fNqxDNwO5y",
        "colab_type": "code",
        "outputId": "a912c13a-e8a9-472d-ea93-cec918fd12ea",
        "colab": {
          "base_uri": "https://localhost:8080/",
          "height": 118
        }
      },
      "source": [
        "#oops_p2\n",
        "print(\"OOPS P2\")\n",
        "print(\"\\n\")\n",
        "class cone:\n",
        "        def __init__(self,radius,height):\n",
        "            self.radius=radius\n",
        "            self.height=height\n",
        "        \n",
        "        def vol(self):\n",
        "            r=self.radius\n",
        "            h=self.height\n",
        "            print (\"Volume=\",round(3.14*r*r*(h/3),2))\n",
        "            \n",
        "\n",
        "        def s_area(self):\n",
        "            r=self.radius\n",
        "            h=self.height\n",
        "            print (\"Base Area=\",round(3.14*r*r,2))\n",
        "            print (\"Side Area=\",round(3.14*r*m.sqrt(m.pow(r,2)+m.pow(h,2)),2))\n",
        "b=cone(3,4)\n",
        "b.vol()\n",
        "b.s_area()\n"
      ],
      "execution_count": 0,
      "outputs": [
        {
          "output_type": "stream",
          "text": [
            "OOPS P2\n",
            "\n",
            "\n",
            "Volume= 37.68\n",
            "Base Area= 28.26\n",
            "Side Area= 47.1\n"
          ],
          "name": "stdout"
        }
      ]
    }
  ]
}